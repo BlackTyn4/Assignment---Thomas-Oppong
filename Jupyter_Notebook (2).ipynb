{
 "cells": [
  {
   "cell_type": "markdown",
   "metadata": {},
   "source": [
    "<center>\n",
    "    <img src=\"https://s3-api.us-geo.objectstorage.softlayer.net/cf-courses-data/CognitiveClass/Logos/organization_logo/organization_logo.png\" width=\"300\" alt=\"cognitiveclass.ai logo\"  />\n",
    "</center>\n"
   ]
  },
  {
   "cell_type": "markdown",
   "metadata": {},
   "source": [
    "# My Jupyter Notebook on IBM Watson Studio"
   ]
  },
  {
   "cell_type": "markdown",
   "metadata": {},
   "source": [
    "**Thomas Oppong** \n",
    "\n",
    "Optometrist "
   ]
  },
  {
   "cell_type": "markdown",
   "metadata": {},
   "source": [
    "_My interest in data science is because of how I plan to influence health-care and health systems in Ghana. Being an optometrist, I have handled cases where patients have little or no idea about what is happening to them. With data science, information collected from institutions can be put to good use._ "
   ]
  },
  {
   "cell_type": "markdown",
   "metadata": {},
   "source": [
    "### The code below will handle a simple mathematical equation and display results after processing."
   ]
  },
  {
   "cell_type": "code",
   "execution_count": 3,
   "metadata": {},
   "outputs": [
    {
     "data": {
      "text/plain": [
       "20"
      ]
     },
     "execution_count": 3,
     "metadata": {},
     "output_type": "execute_result"
    }
   ],
   "source": [
    "2 * 10 "
   ]
  },
  {
   "cell_type": "markdown",
   "metadata": {},
   "source": [
    "Horizontal Rule\n",
    "- - - \n",
    "\n",
    "[To read more about Doctor of Optometry](https://www.aoa.org/healthy-eyes/whats-a-doctor-of-optometry?sso=y#:~:text=Doctors%20of%20optometry%20%28O.D.s%2Foptometrists%29%2C%20America%E2%80%99s%20primary%20eye%20health,and%20manage%20diseases%20and%20disorders%20of%20the%20eye.)\n",
    "\n",
    "My table\n",
    "**Name** | **Age** | **Gender**\n",
    "--- | --- | ---\n",
    "Kofi | 12 years | Male\n",
    "Ama | 11 years | Female \n",
    "Kwame | 15 years| Male "
   ]
  },
  {
   "cell_type": "code",
   "execution_count": null,
   "metadata": {},
   "outputs": [],
   "source": []
  },
  {
   "cell_type": "code",
   "execution_count": null,
   "metadata": {},
   "outputs": [],
   "source": []
  }
 ],
 "metadata": {
  "kernelspec": {
   "display_name": "Python",
   "language": "python",
   "name": "conda-env-python-py"
  },
  "language_info": {
   "codemirror_mode": {
    "name": "ipython",
    "version": 3
   },
   "file_extension": ".py",
   "mimetype": "text/x-python",
   "name": "python",
   "nbconvert_exporter": "python",
   "pygments_lexer": "ipython3",
   "version": "3.7.12"
  }
 },
 "nbformat": 4,
 "nbformat_minor": 4
}
